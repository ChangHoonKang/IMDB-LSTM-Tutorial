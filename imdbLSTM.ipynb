{
 "cells": [
  {
   "cell_type": "markdown",
   "metadata": {},
   "source": [
    "# LSTM IMDB Movie Review Tutorial\n",
    "Josiah Olson"
   ]
  },
  {
   "cell_type": "code",
   "execution_count": 2,
   "metadata": {
    "collapsed": false
   },
   "outputs": [],
   "source": [
    "from __future__ import print_function\n",
    "import time\n",
    "import numpy as np\n",
    "np.random.seed(1337)  # for reproducibility\n",
    "\n",
    "from keras.preprocessing import sequence\n",
    "from keras.models import Model, Sequential\n",
    "from keras.layers import Dense, Dropout, Embedding, LSTM, Input, merge, BatchNormalization\n",
    "from keras.datasets import imdb\n",
    "\n",
    "import os\n",
    "from keras.preprocessing.text import Tokenizer"
   ]
  },
  {
   "cell_type": "code",
   "execution_count": 3,
   "metadata": {
    "collapsed": true
   },
   "outputs": [],
   "source": [
    "max_features = 10000\n",
    "max_len = 200  # cut texts after this number of words (among top max_features most common words)"
   ]
  },
  {
   "cell_type": "code",
   "execution_count": 4,
   "metadata": {
    "collapsed": false
   },
   "outputs": [
    {
     "name": "stdout",
     "output_type": "stream",
     "text": [
      "x:\n",
      "[\"Peter Ustinov plays an embezzler who is just getting out of prison when the film begins. As soon as he walks out the gates, he immediately begins working on a scheme to once again make a bundle by stealing, though this time he has his sights set pretty high. This is actually one of the weak points about the film, as he apparently knows nothing about computers (few did back in 1968) but manages to become a computer genius literally overnight! Yeah, right. Anyway, he comes up with a scheme to impersonate a computer expert and obtain a job with a large American corporation so he can eventually embezzle a ton of cash. Considering his knowledge of computers is rudimentary, it's amazing how he puts into effect a brilliant plan AND manages to infiltrate the computer system and its defenses. But, it's a movie after all, so I was able to suspend disbelief. By the end of the film, he and his new wife (Maggie Smith) are able to run away with a million pounds.<br /><br />At the very end, though, it gets very, very confusing and Smith announces she's managed to actually accumulate more than two million by shrewd investing in the companies that Ustinov started (though she didn't realize they were all dummy companies). This should mean that eventually these stocks she bought were worthless. What they seem to imply (and I could be guessing wrong here) is that Ustinov and his new partners quickly cashed in the stocks before this became known and the stocks would thereby then become worthless. Either way, the film seems to post on a magical ending whereby no one is hurt and everyone is happy--and this just didn't make much sense. It's a shame, really, as the acting and most of the writing was great. Karl Malden, Bob Newhart, Peter Ustinov and Maggie Smith were just wonderful.<br /><br />If I seem to have interpreted the end, let me know, as the film seemed very vague in details at the end.\"]\n",
      "['I understand this movie was made on a very low budget but that is no excuse for the monstrosity that is Grendel. Deathstalker, The Throne of Fire, Barbarian Queen, Conquest, the Invincible Barbarian were all done on shoestring budgets and poor special effects yet they still managed to create cult classics by adding some scantily clad women warriors and a good sense of humor. The primitive costumes, dark castles and beautiful Bulgarian landscape gave Grendel the potential to be a very good low budget sword and sorcery film, but the makers completely ruined this opportunity by using extremely poor CGI effects and colorless characters. Compare this film to Beowulf (1999). It may not be Citizen Kane but it is a good example of how an entertaining low budget sci-fi/ adventure movie can be made by using credible special effects and appealing characters.']\n",
      "25000\n",
      "y:\n",
      "[1]\n",
      "[0]\n",
      "25000\n"
     ]
    }
   ],
   "source": [
    "# get dataset and unzip: http://ai.stanford.edu/~amaas/data/sentiment/aclImdb_v1.tar.gz\n",
    "\n",
    "X_train = []\n",
    "y_train = []\n",
    "\n",
    "path = './aclImdb/train/pos/'\n",
    "X_train.extend([open(path + f).read() for f in os.listdir(path) if f.endswith('.txt')])\n",
    "y_train.extend([1 for _ in range(12500)])\n",
    "\n",
    "path = './aclImdb/train/neg/'\n",
    "X_train.extend([open(path + f).read() for f in os.listdir(path) if f.endswith('.txt')])\n",
    "y_train.extend([0 for _ in range(12500)])\n",
    "\n",
    "print('x:')\n",
    "print(X_train[:1])\n",
    "print(X_train[-1:])\n",
    "print(len(X_train))\n",
    "print('y:')\n",
    "print(y_train[:1])\n",
    "print(y_train[-1:])\n",
    "print(len(y_train))"
   ]
  },
  {
   "cell_type": "code",
   "execution_count": 5,
   "metadata": {
    "collapsed": false,
    "scrolled": true
   },
   "outputs": [
    {
     "name": "stdout",
     "output_type": "stream",
     "text": [
      "x:\n",
      "[\"This is most likely the best picture not many will see. It presented a culture in a real unhollywoodized way. A must see for all who like Indie and for those who don't. I think this movie will draw more into the Indie scene. The acting was top notch! The character of Alice was portreyed so well. With perfect akwardness. This movie ahould be brought to the mainstream! I think it would do phenominally! ALICE is the most real look at an element of our culture that I have seen since GO ASK ALICE. A look that is untouched by the Hollywood hand. Movies like this show young people that these things aren't glamorous but that they are real and compelling. If you liked PIECES OF APRIL you will love this one!\"]\n",
      "['During production, this LWT series was titled \\'Rocket To The Moon\\', a title that everyone on set at the time thought was cheesy enough. Then word came through that it had been retitled \\'Reach for the Moon\\', as if this the addition of this new word would evoke heavy metaphorical meanings involving the relationships and aspirations of the characters. This same heavy handed lack of subtlety and understanding is clear throughout the very fabric of the entire series, and the same tired and boring love-triangle storyline is actually stretched out over 7 episodes! Any television program that decides to use the \\'love-triangle\\' storyline for even a single episode is pushing it, but to smear it over seven episodes is unforgivable. There are reasons to watch however, with the scenery of the Isle of Wight certainly providing a beautiful setting, and the seemingly effortless performance of Lynda Bellingham hitting all the right comedy marks. This, however is not enough. A number of performances are noticeable , especially when placed against the static and emotionless wasteland which Jonathan Kerrigan refers to as his face. I have already mentioned Lynda Bellingham in the role of \\'fussy mother\\' (yes, thats as far as character development and back-story goes), but I was impressed by the actor Maurice Roeves (who is by far the most experienced actor in the cast, having appeared in everything from classic movies such as Richard Attenborough\\'s \\'Oh What a Lovely War\\', and \\'The Eagle Has Landed\\', and TV including Baywatch, Holby City, The Bill, Eastenders, Cheers, Doctor Who in the 80s, Star Trek, and even going to Hollywood with Sylvestor Stallone in 1995s Judge Dredd) whose performance reminded me very much of actual teachers I have met - often incapable men, whose lives are tinged with a very sad streak. It is refreshing to see that Roeves is still getting work, having also appeared in the 1998 British film \\'The Acid House\\' and even more recently alongside the wonderful Maria Bello and Sean Bean in \\'The Dark\\'. The standout reason to watch this series, even though his appearances are very few. Another actor who tries his hardest to elevate the program, is Ben Miles, in the role of the sex-mad \\'typical man\\' brother (once again, what an original character!). As with Roeves, the CV says it all. After elevating this, Miles has since appeared in the Hollywood movie \\'V for Vendetta\\', and the 2001 star studded film \\'The Affair of the Necklace\\', alongside Brian Cox, Adrien Brody, Christopher Walken and Jonathan Pryce. Unfortunately the fairly capable actors I have mentioned are resigned to relatively small roles in comparison to the dramatic driftwood that is Kerrigan and Saira Todd, both of whom seem to have been in Casualty for too long, and haven\\'t yet learned to act. Even the tolerable Frances Grey is made to suffer in the presence of such theatrically fetal mannequins, and unfortunately for her, the lasting memory I have of her from the set, is of the AD asking for another take of a relatively complex shot because during the take, she subconsciously \\'pulled her knickers out of her crack!\\'. Familiar faces appear in each episode - child actors from CBBC programs, and dramas such as \\'2 Point 4 Children\\', and other regulars from commercials such as Mr Ben\\'s (\"they\\'ll remember me for this\"), Lynda \\'the Oxo lady\\' Bellingham, and others that I don\\'t even want to remember. Each episode halfheartedly tries to \\'deal with issues\\' such as teenage pregnancy, disruptive pupils, and rocket building(!)... things that Grange Hill was doing better when my parents were young! Overall, this series was a disappointment, and a wasted opportunity to craft a genuinely interesting and well developed drama series. Unfortunately, for them they took the easy route, both in the writing and (for the most part) in the casting. I would recommend both \\'Waterloo Road\\' and \\'The Street\\',to fans of good drama - the latter in particular which managed to achieve this. If you like the Isle of Wight, don\\'t \\'reach for the moon\\', reach for the holiday brochure instead - it probably contains more character development!']\n",
      "25000\n",
      "y:\n",
      "[1]\n",
      "[0]\n",
      "25000\n"
     ]
    }
   ],
   "source": [
    "# read in the test data\n",
    "\n",
    "X_test = []\n",
    "y_test = []\n",
    "\n",
    "path = './aclImdb/test/pos/'\n",
    "X_test.extend([open(path + f).read() for f in os.listdir(path) if f.endswith('.txt')])\n",
    "y_test.extend([1 for _ in range(12500)])\n",
    "\n",
    "path = './aclImdb/test/neg/'\n",
    "X_test.extend([open(path + f).read() for f in os.listdir(path) if f.endswith('.txt')])\n",
    "y_test.extend([0 for _ in range(12500)])\n",
    "\n",
    "print('x:')\n",
    "print(X_test[:1])\n",
    "print(X_test[-1:])\n",
    "print(len(X_test))\n",
    "print('y:')\n",
    "print(y_test[:1])\n",
    "print(y_test[-1:])\n",
    "print(len(y_test))"
   ]
  },
  {
   "cell_type": "code",
   "execution_count": 6,
   "metadata": {
    "collapsed": false
   },
   "outputs": [],
   "source": [
    "#tokenize works to list of integers where each integer is a key to a word\n",
    "imdbTokenizer = Tokenizer(nb_words=max_features)\n",
    "\n",
    "imdbTokenizer.fit_on_texts(X_train)"
   ]
  },
  {
   "cell_type": "code",
   "execution_count": 7,
   "metadata": {
    "collapsed": false,
    "scrolled": true
   },
   "outputs": [
    {
     "name": "stdout",
     "output_type": "stream",
     "text": [
      "2 and\n",
      "13 was\n",
      "18 but\n",
      "5 to\n",
      "9 it\n",
      "10 i\n",
      "17 movie\n",
      "4 of\n",
      "15 for\n",
      "6 is\n",
      "12 that\n",
      "7 br\n",
      "8 in\n",
      "19 film\n",
      "1 the\n",
      "14 as\n",
      "3 a\n",
      "11 this\n",
      "16 with\n"
     ]
    }
   ],
   "source": [
    "#print top 20 words \n",
    "#note zero is reserved for non frequent words\n",
    "for word, value in imdbTokenizer.word_index.items():\n",
    "    if value < 20:\n",
    "        print(value, word)"
   ]
  },
  {
   "cell_type": "code",
   "execution_count": 8,
   "metadata": {
    "collapsed": false
   },
   "outputs": [
    {
     "name": "stdout",
     "output_type": "stream",
     "text": [
      "the\n",
      "and\n",
      "an\n"
     ]
    }
   ],
   "source": [
    "#create int to word dictionary\n",
    "intToWord = {}\n",
    "for word, value in imdbTokenizer.word_index.items():\n",
    "    intToWord[value] = word\n",
    "\n",
    "#add a symbol for null placeholder\n",
    "intToWord[0] = \"!!!NA!!!\"\n",
    "    \n",
    "print(intToWord[1])\n",
    "print(intToWord[2])\n",
    "print(intToWord[32])"
   ]
  },
  {
   "cell_type": "code",
   "execution_count": 9,
   "metadata": {
    "collapsed": false
   },
   "outputs": [
    {
     "name": "stdout",
     "output_type": "stream",
     "text": [
      "Peter Ustinov plays an embezzler who is just getting out of prison when the film begins. As soon as he walks out the gates, he immediately begins working on a scheme to once again make a bundle by stealing, though this time he has his sights set pretty high. This is actually one of the weak points about the film, as he apparently knows nothing about computers (few did back in 1968) but manages to become a computer genius literally overnight! Yeah, right. Anyway, he comes up with a scheme to impersonate a computer expert and obtain a job with a large American corporation so he can eventually embezzle a ton of cash. Considering his knowledge of computers is rudimentary, it's amazing how he puts into effect a brilliant plan AND manages to infiltrate the computer system and its defenses. But, it's a movie after all, so I was able to suspend disbelief. By the end of the film, he and his new wife (Maggie Smith) are able to run away with a million pounds.<br /><br />At the very end, though, it gets very, very confusing and Smith announces she's managed to actually accumulate more than two million by shrewd investing in the companies that Ustinov started (though she didn't realize they were all dummy companies). This should mean that eventually these stocks she bought were worthless. What they seem to imply (and I could be guessing wrong here) is that Ustinov and his new partners quickly cashed in the stocks before this became known and the stocks would thereby then become worthless. Either way, the film seems to post on a magical ending whereby no one is hurt and everyone is happy--and this just didn't make much sense. It's a shame, really, as the acting and most of the writing was great. Karl Malden, Bob Newhart, Peter Ustinov and Maggie Smith were just wonderful.<br /><br />If I seem to have interpreted the end, let me know, as the film seemed very vague in details at the end.\n",
      "[[823, 5304, 296, 32, 34, 6, 40, 394, 43, 4, 1168, 51, 1, 19, 775, 14, 512, 14, 26, 2367, 43, 1, 6322, 26, 1238, 775, 777, 20, 3, 4092, 5, 277, 171, 94, 3, 31, 3231, 148, 11, 55, 26, 44, 24, 7346, 267, 181, 309, 11, 6, 162, 28, 4, 1, 813, 754, 41, 1, 19, 14, 26, 681, 691, 161, 41, 5937, 168, 119, 142, 8, 4556, 18, 1025, 5, 410, 3, 1219, 1259, 1224, 9747, 1241, 205, 551, 26, 263, 53, 16, 3, 4092, 5, 3, 1219, 2800, 2, 5997, 3, 289, 16, 3, 1054, 295, 6468, 35, 26, 67, 847, 3, 5864, 4, 2207, 1066, 24, 1857, 4, 5937, 6, 42, 477, 86, 26, 1454, 80, 959, 3, 526, 1341, 2, 1025, 5, 1, 1219, 1507, 2, 91, 18, 42, 3, 17, 100, 29, 35, 10, 13, 499, 5, 4985, 2781, 31, 1, 127, 4, 1, 19, 26, 2, 24, 159, 319, 4142, 1256, 23, 499, 5, 518, 242, 16, 3, 1428, 5679, 7, 7, 30, 1, 52, 127, 148, 9, 211, 52, 52, 1496, 2, 1256, 438, 1316, 5, 162, 50, 71, 104, 1428, 31, 8, 1, 5121, 12, 5304, 643, 148, 56, 158, 920, 33, 68, 29, 5121, 11, 141, 381, 12, 847, 131, 56, 1244, 68, 3557, 48, 33, 303, 5, 8966, 2, 10, 97, 27, 3104, 352, 130, 6, 12, 5304, 2, 24, 159, 5824, 942, 8, 1, 156, 11, 874, 570, 2, 1, 59, 7606, 92, 410, 3557, 342, 93, 1, 19, 183, 5, 1204, 20, 3, 2537, 274, 54, 28, 6, 1486, 2, 313, 6, 651, 2, 11, 40, 158, 94, 73, 278, 42, 3, 899, 63, 14, 1, 113, 2, 88, 4, 1, 484, 13, 84, 5278, 8385, 2051, 823, 5304, 2, 4142, 1256, 68, 40, 386, 7, 7, 45, 10, 303, 5, 25, 9852, 1, 127, 384, 69, 121, 14, 1, 19, 465, 52, 3479, 8, 1372, 30, 1, 127]]\n",
      "peter\n",
      "ustinov\n",
      "plays\n",
      "an\n",
      "who\n",
      "is\n",
      "just\n",
      "getting\n",
      "out\n",
      "of\n",
      "prison\n",
      "when\n",
      "the\n",
      "film\n",
      "begins\n",
      "as\n",
      "soon\n",
      "as\n",
      "he\n",
      "walks\n",
      "out\n",
      "the\n",
      "gates\n",
      "he\n",
      "immediately\n",
      "begins\n",
      "working\n",
      "on\n",
      "a\n",
      "scheme\n",
      "to\n",
      "once\n",
      "again\n",
      "make\n",
      "a\n",
      "by\n",
      "stealing\n",
      "though\n",
      "this\n",
      "time\n",
      "he\n",
      "has\n",
      "his\n",
      "sights\n",
      "set\n",
      "pretty\n",
      "high\n",
      "this\n",
      "is\n",
      "actually\n",
      "one\n",
      "of\n",
      "the\n",
      "weak\n",
      "points\n",
      "about\n",
      "the\n",
      "film\n",
      "as\n",
      "he\n",
      "apparently\n",
      "knows\n",
      "nothing\n",
      "about\n",
      "computers\n",
      "few\n",
      "did\n",
      "back\n",
      "in\n",
      "1968\n",
      "but\n",
      "manages\n",
      "to\n",
      "become\n",
      "a\n",
      "computer\n",
      "genius\n",
      "literally\n",
      "overnight\n",
      "yeah\n",
      "right\n",
      "anyway\n",
      "he\n",
      "comes\n",
      "up\n",
      "with\n",
      "a\n",
      "scheme\n",
      "to\n",
      "a\n",
      "computer\n",
      "expert\n",
      "and\n",
      "obtain\n",
      "a\n",
      "job\n",
      "with\n",
      "a\n",
      "large\n",
      "american\n",
      "corporation\n",
      "so\n",
      "he\n",
      "can\n",
      "eventually\n",
      "a\n",
      "ton\n",
      "of\n",
      "cash\n",
      "considering\n",
      "his\n",
      "knowledge\n",
      "of\n",
      "computers\n",
      "is\n",
      "it's\n",
      "amazing\n",
      "how\n",
      "he\n",
      "puts\n",
      "into\n",
      "effect\n",
      "a\n",
      "brilliant\n",
      "plan\n",
      "and\n",
      "manages\n",
      "to\n",
      "the\n",
      "computer\n",
      "system\n",
      "and\n",
      "its\n",
      "but\n",
      "it's\n",
      "a\n",
      "movie\n",
      "after\n",
      "all\n",
      "so\n",
      "i\n",
      "was\n",
      "able\n",
      "to\n",
      "suspend\n",
      "disbelief\n",
      "by\n",
      "the\n",
      "end\n",
      "of\n",
      "the\n",
      "film\n",
      "he\n",
      "and\n",
      "his\n",
      "new\n",
      "wife\n",
      "maggie\n",
      "smith\n",
      "are\n",
      "able\n",
      "to\n",
      "run\n",
      "away\n",
      "with\n",
      "a\n",
      "million\n",
      "pounds\n",
      "br\n",
      "br\n",
      "at\n",
      "the\n",
      "very\n",
      "end\n",
      "though\n",
      "it\n",
      "gets\n",
      "very\n",
      "very\n",
      "confusing\n",
      "and\n",
      "smith\n",
      "she's\n",
      "managed\n",
      "to\n",
      "actually\n",
      "more\n",
      "than\n",
      "two\n",
      "million\n",
      "by\n",
      "in\n",
      "the\n",
      "companies\n",
      "that\n",
      "ustinov\n",
      "started\n",
      "though\n",
      "she\n",
      "didn't\n",
      "realize\n",
      "they\n",
      "were\n",
      "all\n",
      "companies\n",
      "this\n",
      "should\n",
      "mean\n",
      "that\n",
      "eventually\n",
      "these\n",
      "she\n",
      "bought\n",
      "were\n",
      "worthless\n",
      "what\n",
      "they\n",
      "seem\n",
      "to\n",
      "imply\n",
      "and\n",
      "i\n",
      "could\n",
      "be\n",
      "guessing\n",
      "wrong\n",
      "here\n",
      "is\n",
      "that\n",
      "ustinov\n",
      "and\n",
      "his\n",
      "new\n",
      "partners\n",
      "quickly\n",
      "in\n",
      "the\n",
      "before\n",
      "this\n",
      "became\n",
      "known\n",
      "and\n",
      "the\n",
      "would\n",
      "thereby\n",
      "then\n",
      "become\n",
      "worthless\n",
      "either\n",
      "way\n",
      "the\n",
      "film\n",
      "seems\n",
      "to\n",
      "post\n",
      "on\n",
      "a\n",
      "magical\n",
      "ending\n",
      "no\n",
      "one\n",
      "is\n",
      "hurt\n",
      "and\n",
      "everyone\n",
      "is\n",
      "happy\n",
      "and\n",
      "this\n",
      "just\n",
      "didn't\n",
      "make\n",
      "much\n",
      "sense\n",
      "it's\n",
      "a\n",
      "shame\n",
      "really\n",
      "as\n",
      "the\n",
      "acting\n",
      "and\n",
      "most\n",
      "of\n",
      "the\n",
      "writing\n",
      "was\n",
      "great\n",
      "karl\n",
      "malden\n",
      "bob\n",
      "peter\n",
      "ustinov\n",
      "and\n",
      "maggie\n",
      "smith\n",
      "were\n",
      "just\n",
      "wonderful\n",
      "br\n",
      "br\n",
      "if\n",
      "i\n",
      "seem\n",
      "to\n",
      "have\n",
      "interpreted\n",
      "the\n",
      "end\n",
      "let\n",
      "me\n",
      "know\n",
      "as\n",
      "the\n",
      "film\n",
      "seemed\n",
      "very\n",
      "vague\n",
      "in\n",
      "details\n",
      "at\n",
      "the\n",
      "end\n"
     ]
    }
   ],
   "source": [
    "#convert word strings to integer sequence lists\n",
    "print(X_train[0])\n",
    "print(imdbTokenizer.texts_to_sequences(X_train[:1]))\n",
    "for value in imdbTokenizer.texts_to_sequences(X_train[:1])[0]:\n",
    "    print(intToWord[value])\n",
    "    \n",
    "X_train = imdbTokenizer.texts_to_sequences(X_train)\n",
    "X_test = imdbTokenizer.texts_to_sequences(X_test)"
   ]
  },
  {
   "cell_type": "code",
   "execution_count": 12,
   "metadata": {
    "collapsed": false
   },
   "outputs": [
    {
     "name": "stdout",
     "output_type": "stream",
     "text": [
      "25000 train sequences\n",
      "25000 test sequences\n",
      "Pad sequences (samples x time)\n",
      "X_train shape: (25000, 200)\n",
      "X_test shape: (25000, 200)\n"
     ]
    }
   ],
   "source": [
    "# Censor the data by having a max review length (in number of words)\n",
    "\n",
    "#use this function to load data from keras pickle instead of munging as shown above\n",
    "#(X_train, y_train), (X_test, y_test) = imdb.load_data(nb_words=max_features,\n",
    "#                                                      test_split=0.2)\n",
    "\n",
    "print(len(X_train), 'train sequences')\n",
    "print(len(X_test), 'test sequences')\n",
    "\n",
    "print(\"Pad sequences (samples x time)\")\n",
    "X_train = sequence.pad_sequences(X_train, maxlen=max_len)\n",
    "X_test = sequence.pad_sequences(X_test, maxlen=max_len)\n",
    "print('X_train shape:', X_train.shape)\n",
    "print('X_test shape:', X_test.shape)\n",
    "y_train = np.array(y_train)\n",
    "y_test = np.array(y_test)"
   ]
  },
  {
   "cell_type": "code",
   "execution_count": 13,
   "metadata": {
    "collapsed": false
   },
   "outputs": [
    {
     "name": "stdout",
     "output_type": "stream",
     "text": [
      "x: [ 526 1341    2 1025    5    1 1219 1507    2   91   18   42    3   17  100\n",
      "   29   35   10   13  499    5 4985 2781   31    1  127    4    1   19   26\n",
      "    2   24  159  319 4142 1256   23  499    5  518  242   16    3 1428 5679\n",
      "    7    7   30    1   52  127  148    9  211   52   52 1496    2 1256  438\n",
      " 1316    5  162   50   71  104 1428   31    8    1 5121   12 5304  643  148\n",
      "   56  158  920   33   68   29 5121   11  141  381   12  847  131   56 1244\n",
      "   68 3557   48   33  303    5 8966    2   10   97   27 3104  352  130    6\n",
      "   12 5304    2   24  159 5824  942    8    1  156   11  874  570    2    1\n",
      "   59 7606   92  410 3557  342   93    1   19  183    5 1204   20    3 2537\n",
      "  274   54   28    6 1486    2  313    6  651    2   11   40  158   94   73\n",
      "  278   42    3  899   63   14    1  113    2   88    4    1  484   13   84\n",
      " 5278 8385 2051  823 5304    2 4142 1256   68   40  386    7    7   45   10\n",
      "  303    5   25 9852    1  127  384   69  121   14    1   19  465   52 3479\n",
      "    8 1372   30    1  127]\n",
      "y: 1\n"
     ]
    }
   ],
   "source": [
    "#example of a sentence sequence, note that lower integers are words that occur more commonly\n",
    "print(\"x:\", X_train[0]) #per observation vector of 20000 words\n",
    "print(\"y:\", y_train[0]) #positive or negative review encoding"
   ]
  },
  {
   "cell_type": "code",
   "execution_count": 14,
   "metadata": {
    "collapsed": false,
    "scrolled": true
   },
   "outputs": [
    {
     "name": "stdout",
     "output_type": "stream",
     "text": [
      "y distribution: (array([0, 1]), array([12500, 12500]))\n",
      "max x word: 9999 ; min x word 0\n",
      "y distribution test: (array([0, 1]), array([12500, 12500]))\n",
      "max x word test: 9999 ; min x word 0\n"
     ]
    }
   ],
   "source": [
    "# double check that word sequences behave/final dimensions are as expected\n",
    "print(\"y distribution:\", np.unique(y_train, return_counts=True))\n",
    "print(\"max x word:\", np.max(X_train), \"; min x word\", np.min(X_train))\n",
    "print(\"y distribution test:\", np.unique(y_test, return_counts=True))\n",
    "print(\"max x word test:\", np.max(X_test), \"; min x word\", np.min(X_test))"
   ]
  },
  {
   "cell_type": "code",
   "execution_count": 15,
   "metadata": {
    "collapsed": false
   },
   "outputs": [
    {
     "name": "stdout",
     "output_type": "stream",
     "text": [
      "most and least popular words: \n",
      "(array([   0,    1,    2, ..., 9997, 9998, 9999], dtype=int32), array([1084248,  232308,  115674, ...,      23,      20,      22]))\n"
     ]
    }
   ],
   "source": [
    "print(\"most and least popular words: \")\n",
    "print(np.unique(X_train, return_counts=True))\n",
    "# as expected zero is the highly used word for words not in index"
   ]
  },
  {
   "cell_type": "markdown",
   "metadata": {},
   "source": [
    "What is an LSTM neural network?\n",
    "\n",
    "A Long Term Short Term Memory Network is a type of Recurrent Neural Network. RNN's have multiple time steps with a feature vecture input at each time step and the prior layer's output/hidden state as an input vector. RNN's come in many varieties, for example, an RNN can take one input and predict multiple outputs, multiple inputs and multiple outputs, multiple inputs to a single output dimension, ext.\n",
    "\n",
    "<img src=\"rnntypes.jpeg\">\n",
    "[source: Karpathy: The Unreasonable Effectiveness of Recurrent Neural Networks](http://karpathy.github.io/2015/05/21/rnn-effectiveness/)\n",
    "\n",
    "A more specific RNN where one-hot vector of English characters is the input and at character space in the text an input is provided and an output is generated for the predicted next character in the text.\n",
    "\n",
    "<img src=\"charseq.jpeg\">\n",
    "\n",
    "So, how is an RNN different from an LSTM? A normal RNN has the prior output concatenated with the current input to form the feature vector for the current layer. In a basic RNN structure long term dependencies (ie: the subject of a sentence) can be hard for the network to remember over many time steps. This is refered to as the vanishing/exploding gradient problem. More reading is suggested on this, but essentially the non-linearity's effect will compound over time step's causing the prior (historic) gradient to approach either zero or infinity.\n",
    "\n",
    "We provent this problem through the LSTM architecture. LSTM's have an input gate, output gate and forget gate. As simply as possible, this gates control what the output is for the current layer, what part of the past hidden state is forgotten based on the current input, and what part of the current input should be added to the networks long term memory vector which is passed from layer to layer along with the hidden state.\n",
    "\n",
    "<img src=\"lstmchain.png\">\n",
    "[source: Colah: Understanding LSTM Networks](http://colah.github.io/posts/2015-08-Understanding-LSTMs/)"
   ]
  },
  {
   "cell_type": "code",
   "execution_count": 17,
   "metadata": {
    "collapsed": true
   },
   "outputs": [],
   "source": [
    "#set model hyper parameters\n",
    "epochs = 6\n",
    "embedding_neurons = 128\n",
    "lstm_neurons = 64\n",
    "batch_size = 32"
   ]
  },
  {
   "cell_type": "code",
   "execution_count": 18,
   "metadata": {
    "collapsed": false,
    "scrolled": true
   },
   "outputs": [
    {
     "name": "stdout",
     "output_type": "stream",
     "text": [
      "____________________________________________________________________________________________________\n",
      "Layer (type)                       Output Shape        Param #     Connected to                     \n",
      "====================================================================================================\n",
      "input_1 (InputLayer)               (None, 200)         0                                            \n",
      "____________________________________________________________________________________________________\n",
      "embedding_1 (Embedding)            (None, 200, 128)    1280000     input_1[0][0]                    \n",
      "____________________________________________________________________________________________________\n",
      "batchnormalization_1 (BatchNormaliz(None, 200, 128)    256         embedding_1[0][0]                \n",
      "____________________________________________________________________________________________________\n",
      "lstm_1 (LSTM)                      (None, 64)          49408       batchnormalization_1[0][0]       \n",
      "____________________________________________________________________________________________________\n",
      "dropout_1 (Dropout)                (None, 64)          0           lstm_1[0][0]                     \n",
      "____________________________________________________________________________________________________\n",
      "dense_1 (Dense)                    (None, 1)           65          dropout_1[0][0]                  \n",
      "====================================================================================================\n",
      "Total params: 1329729\n",
      "____________________________________________________________________________________________________\n",
      "None\n"
     ]
    }
   ],
   "source": [
    "# Forward Pass LSTM Network\n",
    "\n",
    "# this is the placeholder tensor for the input sequences\n",
    "sequence = Input(shape=(max_len,), dtype='int32')\n",
    "# this embedding layer will transform the sequences of integers\n",
    "# into vectors of size embedding\n",
    "# embedding layer converts dense int input to one-hot in real time to save memory\n",
    "embedded = Embedding(max_features, embedding_neurons, input_length=max_len)(sequence)\n",
    "# normalize embeddings by input/word in sentence\n",
    "bnorm = BatchNormalization()(embedded)\n",
    "\n",
    "# apply forwards LSTM layer size lstm_neurons\n",
    "forwards = LSTM(lstm_neurons, dropout_W=0.2, dropout_U=0.2)(bnorm)\n",
    "\n",
    "# dropout \n",
    "after_dp = Dropout(0.5)(forwards)\n",
    "output = Dense(1, activation='sigmoid')(after_dp)\n",
    "\n",
    "model_fdir_atom = Model(input=sequence, output=output)\n",
    "# review model structure\n",
    "print(model_fdir_atom.summary())"
   ]
  },
  {
   "cell_type": "code",
   "execution_count": 19,
   "metadata": {
    "collapsed": false,
    "scrolled": true
   },
   "outputs": [
    {
     "name": "stdout",
     "output_type": "stream",
     "text": [
      "Train...\n",
      "Train on 25000 samples, validate on 25000 samples\n",
      "Epoch 1/6\n",
      "286s - loss: 0.5424 - acc: 0.7199 - val_loss: 0.3598 - val_acc: 0.8464\n",
      "Epoch 2/6\n",
      "287s - loss: 0.3132 - acc: 0.8713 - val_loss: 0.3283 - val_acc: 0.8644\n",
      "Epoch 3/6\n",
      "286s - loss: 0.2166 - acc: 0.9163 - val_loss: 0.3159 - val_acc: 0.8739\n",
      "Epoch 4/6\n",
      "286s - loss: 0.1548 - acc: 0.9433 - val_loss: 0.3610 - val_acc: 0.8717\n",
      "Epoch 5/6\n",
      "286s - loss: 0.1210 - acc: 0.9564 - val_loss: 0.3854 - val_acc: 0.8722\n",
      "Epoch 6/6\n",
      "288s - loss: 0.0950 - acc: 0.9660 - val_loss: 0.4609 - val_acc: 0.8709\n",
      "avg sec per epoch: 289.7011380990346\n"
     ]
    }
   ],
   "source": [
    "# Forward pass LSTM network\n",
    "\n",
    "# try using different optimizers and different optimizer configs\n",
    "model_fdir_atom.compile('adam', 'binary_crossentropy', metrics=['accuracy'])\n",
    "\n",
    "print('Train...')\n",
    "start_time = time.time()\n",
    "\n",
    "history_fdir_atom = model_fdir_atom.fit(X_train, y_train,\n",
    "                    batch_size=batch_size,\n",
    "                    nb_epoch=epochs,\n",
    "                    validation_data=[X_test, y_test], \n",
    "                    verbose=2)\n",
    "\n",
    "end_time = time.time()\n",
    "average_time_per_epoch = (end_time - start_time) / epochs\n",
    "print(\"avg sec per epoch:\", average_time_per_epoch)"
   ]
  },
  {
   "cell_type": "markdown",
   "metadata": {},
   "source": [
    "A Bi-directional RNN is a network where the gradient is propagated both forward and backward through time. The hidden state and cell state vector is then the concatenation of the two time steps. This is useful because now the network knows about the input vectors (word embeddings) in front of and behind the current time step."
   ]
  },
  {
   "cell_type": "code",
   "execution_count": 20,
   "metadata": {
    "collapsed": false,
    "scrolled": true
   },
   "outputs": [
    {
     "name": "stdout",
     "output_type": "stream",
     "text": [
      "____________________________________________________________________________________________________\n",
      "Layer (type)                       Output Shape        Param #     Connected to                     \n",
      "====================================================================================================\n",
      "input_2 (InputLayer)               (None, 200)         0                                            \n",
      "____________________________________________________________________________________________________\n",
      "embedding_2 (Embedding)            (None, 200, 128)    1280000     input_2[0][0]                    \n",
      "____________________________________________________________________________________________________\n",
      "batchnormalization_2 (BatchNormaliz(None, 200, 128)    256         embedding_2[0][0]                \n",
      "____________________________________________________________________________________________________\n",
      "lstm_2 (LSTM)                      (None, 64)          49408       batchnormalization_2[0][0]       \n",
      "____________________________________________________________________________________________________\n",
      "lstm_3 (LSTM)                      (None, 64)          49408       batchnormalization_2[0][0]       \n",
      "____________________________________________________________________________________________________\n",
      "merge_1 (Merge)                    (None, 128)         0           lstm_2[0][0]                     \n",
      "                                                                   lstm_3[0][0]                     \n",
      "____________________________________________________________________________________________________\n",
      "dropout_2 (Dropout)                (None, 128)         0           merge_1[0][0]                    \n",
      "____________________________________________________________________________________________________\n",
      "dense_2 (Dense)                    (None, 1)           129         dropout_2[0][0]                  \n",
      "====================================================================================================\n",
      "Total params: 1379201\n",
      "____________________________________________________________________________________________________\n",
      "None\n"
     ]
    }
   ],
   "source": [
    "# Bi-directional Atom\n",
    "\n",
    "# based on keras tutorial: https://github.com/fchollet/keras/blob/master/examples/imdb_bidirectional_lstm.py\n",
    "\n",
    "# this is the placeholder tensor for the input sequences\n",
    "sequence = Input(shape=(max_len,), dtype='int32')\n",
    "# this embedding layer will transform the sequences of integers\n",
    "# into vectors of size embedding\n",
    "# embedding layer converts dense int input to one-hot in real time to save memory\n",
    "embedded = Embedding(max_features, embedding_neurons, input_length=max_len)(sequence)\n",
    "# normalize embeddings by input/word in sentence\n",
    "bnorm = BatchNormalization()(embedded)\n",
    "\n",
    "# apply forwards LSTM layer size lstm_neurons\n",
    "forwards = LSTM(lstm_neurons, dropout_W=0.4, dropout_U=0.4)(bnorm)\n",
    "# apply backwards LSTM\n",
    "backwards = LSTM(lstm_neurons, dropout_W=0.4, dropout_U=0.4, go_backwards=True)(bnorm)\n",
    "\n",
    "# concatenate the outputs of the 2 LSTMs\n",
    "merged = merge([forwards, backwards], mode='concat', concat_axis=-1)\n",
    "after_dp = Dropout(0.5)(merged)\n",
    "output = Dense(1, activation='sigmoid')(after_dp)\n",
    "\n",
    "model_bidir_atom = Model(input=sequence, output=output)\n",
    "# review model structure\n",
    "print(model_bidir_atom.summary())"
   ]
  },
  {
   "cell_type": "code",
   "execution_count": 21,
   "metadata": {
    "collapsed": false
   },
   "outputs": [
    {
     "name": "stdout",
     "output_type": "stream",
     "text": [
      "Train...\n",
      "Train on 25000 samples, validate on 25000 samples\n",
      "Epoch 1/6\n",
      "498s - loss: 0.5829 - acc: 0.6816 - val_loss: 0.4291 - val_acc: 0.8193\n",
      "Epoch 2/6\n",
      "506s - loss: 0.4177 - acc: 0.8143 - val_loss: 0.3763 - val_acc: 0.8534\n",
      "Epoch 3/6\n",
      "500s - loss: 0.3114 - acc: 0.8712 - val_loss: 0.3811 - val_acc: 0.8625\n",
      "Epoch 4/6\n",
      "504s - loss: 0.2598 - acc: 0.8978 - val_loss: 0.4055 - val_acc: 0.8445\n",
      "Epoch 5/6\n",
      "506s - loss: 0.2151 - acc: 0.9168 - val_loss: 0.3816 - val_acc: 0.8684\n",
      "Epoch 6/6\n",
      "507s - loss: 0.1810 - acc: 0.9305 - val_loss: 0.3958 - val_acc: 0.8664\n",
      "avg sec per epoch: 509.0115524133046\n"
     ]
    }
   ],
   "source": [
    "# Bi-directional Atom\n",
    "\n",
    "# try using different optimizers and different optimizer configs\n",
    "model_bidir_atom.compile('adam', 'binary_crossentropy', metrics=['accuracy'])\n",
    "\n",
    "print('Train...')\n",
    "start_time = time.time()\n",
    "\n",
    "history_bidir_atom = model_bidir_atom.fit(X_train, y_train,\n",
    "                    batch_size=batch_size,\n",
    "                    nb_epoch=epochs,\n",
    "                    validation_data=[X_test, y_test], \n",
    "                    verbose=2)\n",
    "\n",
    "end_time = time.time()\n",
    "average_time_per_epoch = (end_time - start_time) / epochs\n",
    "print(\"avg sec per epoch:\", average_time_per_epoch)"
   ]
  },
  {
   "cell_type": "code",
   "execution_count": 22,
   "metadata": {
    "collapsed": false
   },
   "outputs": [],
   "source": [
    "# run simple linear regression to compare performance\n",
    "\n",
    "#based on grid search done by: \n",
    "#https://github.com/rasbt/python-machine-learning-book/blob/master/code/ch08/ch08.ipynb\n",
    "\n",
    "#the tfidf vectors capture co-occurance statistics, think of each number representing how many times \n",
    "#a word occured in a text and scaled by word frequency\n",
    "\n",
    "tfidfTokenizer = Tokenizer(nb_words=max_features)\n",
    "tfidfTokenizer.fit_on_sequences(X_train.tolist())\n",
    "X_train_tfidf = np.asarray(tfidfTokenizer.sequences_to_matrix(X_train.tolist(), mode=\"tfidf\"))\n",
    "X_test_tfidf = np.asarray(tfidfTokenizer.sequences_to_matrix(X_test.tolist(), mode=\"tfidf\"))"
   ]
  },
  {
   "cell_type": "code",
   "execution_count": 23,
   "metadata": {
    "collapsed": false
   },
   "outputs": [
    {
     "name": "stdout",
     "output_type": "stream",
     "text": [
      "[[ 0.         -1.6183748  -1.73087555 ...,  0.          0.          0.        ]\n",
      " [ 0.         -1.71728432 -2.00060526 ...,  0.          0.          0.        ]\n",
      " [ 0.         -1.77371565 -2.33456537 ...,  0.          0.          0.        ]\n",
      " ..., \n",
      " [-0.62228544 -1.83609759 -2.20140072 ...,  0.          0.          0.        ]\n",
      " [-0.30308935 -2.31623382 -3.1618598  ...,  0.          0.          0.        ]\n",
      " [-0.78452538 -2.07616571 -2.09259727 ...,  0.          0.          0.        ]]\n",
      "(25000, 10000) (25000, 10000)\n"
     ]
    }
   ],
   "source": [
    "#check tfidf matrix\n",
    "print(X_train_tfidf)\n",
    "print(X_train_tfidf.shape, X_test_tfidf.shape)"
   ]
  },
  {
   "cell_type": "code",
   "execution_count": 24,
   "metadata": {
    "collapsed": false
   },
   "outputs": [
    {
     "name": "stdout",
     "output_type": "stream",
     "text": [
      "[LibLinear]"
     ]
    },
    {
     "data": {
      "text/plain": [
       "LogisticRegression(C=0.001, class_weight=None, dual=False, fit_intercept=True,\n",
       "          intercept_scaling=1, max_iter=100, multi_class='ovr', n_jobs=1,\n",
       "          penalty='l2', random_state=0, solver='liblinear', tol=0.0001,\n",
       "          verbose=1, warm_start=False)"
      ]
     },
     "execution_count": 24,
     "metadata": {},
     "output_type": "execute_result"
    }
   ],
   "source": [
    "from sklearn.linear_model import LogisticRegression\n",
    "\n",
    "model_tfidf_reg = LogisticRegression(random_state=0, C=0.001, penalty='l2', verbose=1)\n",
    "model_tfidf_reg.fit(X_train_tfidf, y_train)"
   ]
  },
  {
   "cell_type": "code",
   "execution_count": 25,
   "metadata": {
    "collapsed": false
   },
   "outputs": [
    {
     "name": "stdout",
     "output_type": "stream",
     "text": [
      "train acc: 0.9176\n",
      "test acc: 0.87328\n"
     ]
    }
   ],
   "source": [
    "from sklearn.metrics import accuracy_score\n",
    "#calculate test and train accuracy\n",
    "print(\"train acc:\", accuracy_score(y_test, model_tfidf_reg.predict(X_train_tfidf)))\n",
    "print(\"test acc:\", accuracy_score(y_test, model_tfidf_reg.predict(X_test_tfidf)))"
   ]
  },
  {
   "cell_type": "markdown",
   "metadata": {},
   "source": [
    "What went wrong? Why does our complex neural net not do leaps and bounds better than classic information retrieval techniques? Neural networks tend to excell with lot's of data. If we had around a million movie reviews the literature suggests that the LSTM would vastly outperform the logistic regression. \n",
    "\n",
    "<img src=\"rnnvridge.png\">\n",
    "[source: indico passage github](https://github.com/IndicoDataSolutions/Passage/tree/master/examples)"
   ]
  },
  {
   "cell_type": "code",
   "execution_count": 26,
   "metadata": {
    "collapsed": false
   },
   "outputs": [
    {
     "name": "stdout",
     "output_type": "stream",
     "text": [
      "____________________________________________________________________________________________________\n",
      "Layer (type)                       Output Shape        Param #     Connected to                     \n",
      "====================================================================================================\n",
      "input_3 (InputLayer)               (None, 200)         0                                            \n",
      "____________________________________________________________________________________________________\n",
      "embedding_3 (Embedding)            (None, 200, 128)    1280000     input_3[0][0]                    \n",
      "____________________________________________________________________________________________________\n",
      "batchnormalization_3 (BatchNormaliz(None, 200, 128)    256         embedding_3[0][0]                \n",
      "____________________________________________________________________________________________________\n",
      "lstm_4 (LSTM)                      (None, 64)          49408       batchnormalization_3[0][0]       \n",
      "____________________________________________________________________________________________________\n",
      "lstm_5 (LSTM)                      (None, 64)          49408       batchnormalization_3[0][0]       \n",
      "____________________________________________________________________________________________________\n",
      "merge_2 (Merge)                    (None, 128)         0           lstm_4[0][0]                     \n",
      "                                                                   lstm_5[0][0]                     \n",
      "____________________________________________________________________________________________________\n",
      "dropout_3 (Dropout)                (None, 128)         0           merge_2[0][0]                    \n",
      "____________________________________________________________________________________________________\n",
      "dense_3 (Dense)                    (None, 1)           129         dropout_3[0][0]                  \n",
      "====================================================================================================\n",
      "Total params: 1379201\n",
      "____________________________________________________________________________________________________\n",
      "None\n"
     ]
    }
   ],
   "source": [
    "# Bi-directional rmsprop\n",
    "\n",
    "# this example illistrate's that choice of optimizer is an important hyper-parameter for RNNs\n",
    "# rmsprop gives substancially better results than atom\n",
    "# in the literature these two optimizers commonly do well on RNNs\n",
    "\n",
    "# this is the placeholder tensor for the input sequences\n",
    "sequence = Input(shape=(max_len,), dtype='int32')\n",
    "# this embedding layer will transform the sequences of integers\n",
    "# into vectors of size embedding\n",
    "# embedding layer converts dense int input to one-hot in real time to save memory\n",
    "embedded = Embedding(max_features, embedding_neurons, input_length=max_len)(sequence)\n",
    "# normalize embeddings by input/word in sentence\n",
    "bnorm = BatchNormalization()(embedded)\n",
    "\n",
    "# apply forwards LSTM layer size lstm_neurons\n",
    "forwards = LSTM(lstm_neurons, dropout_W=0.4, dropout_U=0.4)(bnorm)\n",
    "# apply backwards LSTM\n",
    "backwards = LSTM(lstm_neurons, dropout_W=0.4, dropout_U=0.4, go_backwards=True)(bnorm)\n",
    "\n",
    "# concatenate the outputs of the 2 LSTMs\n",
    "merged = merge([forwards, backwards], mode='concat', concat_axis=-1)\n",
    "after_dp = Dropout(0.5)(merged)\n",
    "output = Dense(1, activation='sigmoid')(after_dp)\n",
    "\n",
    "model_bidir_rmsprop = Model(input=sequence, output=output)\n",
    "# review model structure\n",
    "print(model_bidir_rmsprop.summary())"
   ]
  },
  {
   "cell_type": "code",
   "execution_count": 27,
   "metadata": {
    "collapsed": false
   },
   "outputs": [
    {
     "name": "stdout",
     "output_type": "stream",
     "text": [
      "Train...\n",
      "Train on 25000 samples, validate on 25000 samples\n",
      "Epoch 1/6\n",
      "523s - loss: 0.5914 - acc: 0.6716 - val_loss: 0.4526 - val_acc: 0.8062\n",
      "Epoch 2/6\n",
      "526s - loss: 0.3991 - acc: 0.8288 - val_loss: 0.3500 - val_acc: 0.8643\n",
      "Epoch 3/6\n",
      "526s - loss: 0.3101 - acc: 0.8750 - val_loss: 0.3185 - val_acc: 0.8796\n",
      "Epoch 4/6\n",
      "527s - loss: 0.2591 - acc: 0.8998 - val_loss: 0.3441 - val_acc: 0.8793\n",
      "Epoch 5/6\n",
      "517s - loss: 0.2206 - acc: 0.9159 - val_loss: 0.3362 - val_acc: 0.8776\n",
      "Epoch 6/6\n",
      "514s - loss: 0.1897 - acc: 0.9295 - val_loss: 0.3811 - val_acc: 0.8767\n",
      "avg sec per epoch: 527.796077132225\n"
     ]
    }
   ],
   "source": [
    "# Bi-directional rmsprop\n",
    "\n",
    "model_bidir_rmsprop.compile('rmsprop', 'binary_crossentropy', metrics=['accuracy'])\n",
    "\n",
    "print('Train...')\n",
    "start_time = time.time()\n",
    "\n",
    "history_bidir_rmsprop = model_bidir_rmsprop.fit(X_train, y_train,\n",
    "                    batch_size=batch_size,\n",
    "                    nb_epoch=epochs,\n",
    "                    validation_data=[X_test, y_test], \n",
    "                    verbose=2)\n",
    "\n",
    "end_time = time.time()\n",
    "average_time_per_epoch = (end_time - start_time) / epochs\n",
    "print(\"avg sec per epoch:\", average_time_per_epoch)"
   ]
  },
  {
   "cell_type": "code",
   "execution_count": 28,
   "metadata": {
    "collapsed": false
   },
   "outputs": [
    {
     "name": "stdout",
     "output_type": "stream",
     "text": [
      "{'trainable': True, 'input_length': 200, 'output_dim': 128, 'W_constraint': None, 'input_dtype': 'int32', 'init': 'uniform', 'mask_zero': False, 'W_regularizer': None, 'name': 'embedding_3', 'batch_input_shape': (None, 200), 'input_dim': 10000, 'dropout': 0.0, 'activity_regularizer': None}\n",
      "(10000, 128)\n"
     ]
    }
   ],
   "source": [
    "#get weights from embedding layer and visualize\n",
    "\n",
    "print(model_bidir_rmsprop.layers[1].get_config())\n",
    "embmatrix = model_bidir_rmsprop.layers[1].get_weights()[0]\n",
    "print(embmatrix.shape)"
   ]
  },
  {
   "cell_type": "code",
   "execution_count": 29,
   "metadata": {
    "collapsed": false
   },
   "outputs": [
    {
     "data": {
      "text/plain": [
       "(5000, 2)"
      ]
     },
     "execution_count": 29,
     "metadata": {},
     "output_type": "execute_result"
    }
   ],
   "source": [
    "from sklearn.manifold import TSNE\n",
    "topnwords = 5000\n",
    "toptsne = TSNE(n_components=2, random_state=0)\n",
    "tsneXY = toptsne.fit_transform(embmatrix[:topnwords, :]) \n",
    "tsneXY.shape"
   ]
  },
  {
   "cell_type": "code",
   "execution_count": 30,
   "metadata": {
    "collapsed": false
   },
   "outputs": [
    {
     "data": {
      "image/png": "[encoded data removed]",
      "text/plain": [
       "<matplotlib.figure.Figure at 0x7fa3881c4748>"
      ]
     },
     "metadata": {},
     "output_type": "display_data"
    }
   ],
   "source": [
    "%matplotlib inline\n",
    "displaytopnwords = 250\n",
    "import matplotlib.pyplot as plt\n",
    "fig, ax = plt.subplots()\n",
    "ax.scatter(tsneXY[:displaytopnwords, 0], tsneXY[:displaytopnwords, 1])\n",
    "\n",
    "for i in range(displaytopnwords):\n",
    "    ax.annotate(intToWord[i], (tsneXY[i, 0], tsneXY[i, 1]))\n",
    "\n",
    "fig.set_size_inches(25, 25)\n",
    "plt.show()\n",
    "# notice that great, most, well are clustered\n",
    "# bad don't even are clustered\n",
    "# We've learned structure in our sentiment embedding\n",
    "# neural networks give us this and other useful features for free"
   ]
  },
  {
   "cell_type": "markdown",
   "metadata": {},
   "source": [
    "Note in the image above that 'script' is close to 'bad', apparently more people use that in the negative context. Also, 'performance' is close to 'him', it appears that the embedding is learning a reference back to the pronoun.\n",
    "Note, how far apart the clusters of positive and negative words are, negative words at the top of the TSNE embedding. Another cool observation, 'music' is close to 'feel', again think that aspect of this embedding is cinema specific."
   ]
  },
  {
   "cell_type": "code",
   "execution_count": 31,
   "metadata": {
    "collapsed": false
   },
   "outputs": [
    {
     "name": "stdout",
     "output_type": "stream",
     "text": [
      "(-7.2563256593202459, 3.9883630258994458, '!!!NA!!!')\n",
      "(1.7808394964577876, 0.28420900707493096, 'the')\n",
      "(1.3074923788709416, -1.413810383230826, 'and')\n",
      "(0.97258376513508604, -1.0636709051629747, 'a')\n",
      "(0.32762661520397507, -0.85173608614889351, 'of')\n",
      "(-1.4350479582962941, -0.80866758371634495, 'to')\n",
      "(3.4378501126279826, -0.18557639983027338, 'is')\n",
      "(-0.24889999686753927, -0.42062066515337743, 'br')\n",
      "(1.7262155260412964, -0.39519343021691189, 'in')\n",
      "(-3.6097427714182357, -2.0117301664713447, 'it')\n",
      "(-0.6329451082241131, -1.2518229318694318, 'i')\n",
      "(-1.7021053813659366, -0.73102130031323842, 'this')\n",
      "(-1.764117013490822, -0.7809036493439212, 'that')\n",
      "(-0.83022767719242463, 0.7586250481093747, 'was')\n",
      "(0.48896462079654518, -1.1895546496855136, 'as')\n",
      "(1.0988743098147409, 1.6877591127012967, 'for')\n",
      "(-3.1685738525530742, -0.62729307947154656, 'with')\n",
      "(-4.5218605670113332, -1.9000801332761281, 'movie')\n",
      "(4.7404464087564335, -1.7193498864520638, 'but')\n",
      "(4.8252599829559752, 0.96465357738898383, 'film')\n",
      "(-2.8345959772174814, -0.39800818426320017, 'on')\n",
      "(-3.0865337817632996, 4.2568253198803259, 'not')\n",
      "(0.47136785552726373, -2.5750364893749653, 'you')\n",
      "(1.1847985409385411, 0.24150841301422307, 'are')\n",
      "(3.272663355196932, -0.93469787200890775, 'his')\n",
      "(3.8694089689931928, 2.6220800331979568, 'have')\n",
      "(1.0073171039046291, 0.65736202629216334, 'he')\n",
      "(4.0787178502366173, 1.1497402031381456, 'be')\n",
      "(-1.8067958795468784, -0.74059367177157021, 'one')\n",
      "(-2.2053899022876049, 0.10199510256970566, 'all')\n",
      "(1.9016771590944137, 0.97163693440329346, 'at')\n",
      "(1.4369147281291941, 2.174057708998248, 'by')\n",
      "(2.0987808763272797, 1.0028642430926658, 'an')\n",
      "(-3.2792360803170686, -0.60599116000310849, 'they')\n",
      "(1.487272456141276, -1.0239365969149357, 'who')\n",
      "(1.6501811996470699, -0.084513267043402313, 'so')\n",
      "(2.9360007709128029, 2.7583635162824027, 'from')\n",
      "(-0.39362929220041165, -0.9023147303887723, 'like')\n",
      "(0.53308181941862498, -0.65258163071533226, 'her')\n",
      "(0.26942940478237914, -0.63916943456983522, 'or')\n",
      "(-5.4120715941874673, 5.1844360528411624, 'just')\n",
      "(0.67666118885775395, 2.3159268490938247, 'about')\n",
      "(0.6210945806814222, -2.9756192509272998, \"it's\")\n",
      "(0.22372442738831763, -0.54728912930576301, 'out')\n",
      "(3.6701692266959935, -0.14133169461724449, 'has')\n",
      "(4.4828206338447059, -0.42793962582541495, 'if')\n",
      "(3.8359168684525167, -0.53649396796861359, 'some')\n",
      "(-2.8545030889406777, -2.2767276658954207, 'there')\n",
      "(4.3561696020893992, 0.19919617635430484, 'what')\n",
      "(3.1356829563135578, -6.9534348348926107, 'good')\n",
      "(-2.1571806226082049, -2.5131431307465633, 'more')\n",
      "(-2.5567626990361165, -0.49597176162829404, 'when')\n",
      "(3.3388708971374759, -5.9229683739320027, 'very')\n",
      "(3.2136185005211244, -1.0137532755024645, 'up')\n",
      "(-1.9592448817129895, 6.5014183107809069, 'no')\n",
      "(5.0913974789202809, 1.5511679417868758, 'time')\n",
      "(3.9152515876020622, -4.1467148142536159, 'she')\n",
      "(0.66381075156722824, 5.8423022810968277, 'even')\n",
      "(2.0107236352081728, -1.0011659800296977, 'my')\n",
      "(-2.5650637236727452, 2.109802796172946, 'would')\n",
      "(4.105647818999226, 0.65397928533011362, 'which')\n",
      "(-2.0381243225483514, 4.5869878076481569, 'only')\n",
      "(-4.4635117688813342, -1.9467156229442, 'story')\n",
      "(-3.1083177572766441, -1.6891889967538714, 'really')\n",
      "(2.4534387500480954, -8.6228712647681647, 'see')\n",
      "(5.0463859841988246, 1.1248083473367099, 'their')\n",
      "(-5.0746864165396186, -0.75735325725481495, 'had')\n",
      "(1.1427499365559719, -0.090875588296553622, 'can')\n",
      "(-1.3173986472039589, 3.4805036147830606, 'were')\n",
      "(4.823406246557286, 0.95079435951443037, 'me')\n",
      "(-1.5297324388071885, -6.8987036454215174, 'well')\n",
      "(-1.952582442569412, -1.8988636351563637, 'than')\n",
      "(3.6185567291074285, 0.41628802699997397, 'we')\n",
      "(0.58042431663890992, 3.0518935939506382, 'much')\n",
      "(-0.46580129866972281, -3.7376029146911347, 'been')\n",
      "(-4.3045887922772748, 9.0547483844459844, 'bad')\n",
      "(3.1606696486019032, 0.035003845257118887, 'get')\n",
      "(3.4131259997682726, -0.75446859272851696, 'will')\n",
      "(4.199636456213387, 0.85005205984561316, 'do')\n",
      "(-1.8164992599579286, -6.5002572452739864, 'also')\n",
      "(1.8724742702044594, -0.009839759511626878, 'into')\n",
      "(3.8665064955289434, 1.8778096829918607, 'people')\n",
      "(0.61227868383135009, -4.0757374461608737, 'other')\n",
      "(2.4600753387357615, 0.039178917201315881, 'first')\n",
      "(-0.68938812575042163, -9.9352939590866232, 'great')\n",
      "(-0.48789226790178203, 1.4739449194876164, 'because')\n",
      "(3.5235873347931586, -2.0354139891315794, 'how')\n",
      "(-2.6728145687148959, -5.870750918059934, 'him')\n",
      "(1.2564554146337128, -5.5913953328884496, 'most')\n",
      "(-3.0846286130760299, 2.2621680632597383, \"don't\")\n",
      "(4.778982406537069, 1.2558123365187444, 'made')\n",
      "(1.8731228888614306, -0.79213868217823435, 'its')\n",
      "(0.58370408002254659, -0.51360376244934836, 'then')\n",
      "(4.5828788992030862, 1.1164116082206856, 'way')\n",
      "(-2.7741857805375365, -1.158393680201379, 'make')\n",
      "(4.5493567518322582, 1.3913183612457898, 'them')\n",
      "(-2.9194480488754051, -1.0279388629822217, 'too')\n",
      "(-1.3170475286472476, -0.55080219453032575, 'could')\n",
      "(-0.66825078126778592, 5.5977387547710169, 'any')\n",
      "(4.8215259763332066, 1.1632471306641972, 'movies')\n",
      "(1.4493086264317454, 0.18856560872949474, 'after')\n",
      "(3.4963970742967634, -2.6920903775165304, 'think')\n",
      "(3.9711250222375467, 2.347431061373908, 'characters')\n",
      "(5.2978777450222836, 1.0101882620654845, 'watch')\n",
      "(-4.3476123403124527, -0.58339877059601541, 'two')\n",
      "(-2.2668429788988051, -4.3194103547994924, 'films')\n",
      "(2.8909891532566094, 0.61273553771507017, 'character')\n",
      "(0.97429426091210136, -8.3222631181807927, 'seen')\n",
      "(3.9376247285741437, 0.61330121774578872, 'many')\n",
      "(-2.0779200287137845, 2.7482021846981484, 'being')\n",
      "(5.0756192846346337, -5.1263846799889174, 'life')\n",
      "(-2.476239211603279, 7.3100599776608615, 'plot')\n",
      "(-1.5964524829985023, -1.6216522182803665, 'never')\n",
      "(4.4470679289156649, 1.8443165201649883, 'acting')\n",
      "(-2.6756134871699468, -4.0112454088976204, 'little')\n",
      "(-0.77851455136049719, -9.7722851440229306, 'best')\n",
      "(-0.53883666776315509, -9.5751257425865486, 'love')\n",
      "(-2.224923971736922, 1.0078105204296885, 'over')\n",
      "(5.5355258119572799, -2.3402546835854667, 'where')\n",
      "(-0.68692276713259037, 3.3082317144423254, 'did')\n",
      "(1.3632010906695307, 1.9758520751751922, 'show')\n",
      "(-2.3730292702125082, -3.8462935395228248, 'know')\n",
      "(-3.3922302147002328, 1.7010179784532664, 'off')\n",
      "(4.8717457874688126, 1.8887969653201526, 'ever')\n",
      "(-1.06901816568443, -2.9156111652593282, 'does')\n",
      "(-2.4338548971362561, 7.3690897919569736, 'better')\n",
      "(0.45937800642844651, 1.2595446552324285, 'your')\n",
      "(0.35155459995930527, 2.8260170953402377, 'end')\n",
      "(3.7097382026170411, -5.5940195074977881, 'still')\n",
      "(-0.098243569566600672, -1.7827859208598735, 'man')\n",
      "(0.027513528127751097, 3.4902249121524926, 'here')\n",
      "(-0.29846568290875908, -0.25837200496049462, 'these')\n",
      "(3.7798663981035019, -0.94542871819033625, 'say')\n",
      "(4.6736193810298658, -4.3509820932621199, 'scene')\n",
      "(2.0040240762459947, 1.2629384719095016, 'while')\n",
      "(1.8165760854419462, 5.0151942277648951, 'why')\n",
      "(0.90589658440960719, 1.6574061612949746, 'scenes')\n",
      "(2.0800439172813436, -0.090730206113465217, 'go')\n",
      "(-0.10612525156035443, -1.4291976086651352, 'such')\n",
      "(-3.4794345767201982, 0.25797388990386605, 'something')\n",
      "(-5.3955359598189876, 4.4930874059815089, 'through')\n",
      "(2.4454277009806535, -0.074640490634138523, 'should')\n",
      "(4.5691460504784871, 0.93961312083966742, 'back')\n",
      "(3.3576854497857767, 3.5056929427206787, \"i'm\")\n",
      "(-3.1369331623106, -4.3787664845215382, 'real')\n",
      "(-2.8401133923799264, -0.92057079326778302, 'those')\n",
      "(1.403228075160021, 1.0940708438514546, 'watching')\n",
      "(-3.3364382002166231, -5.6311773086511883, 'now')\n",
      "(-2.2394941377807975, -3.1559670585392654, 'though')\n",
      "(-4.028887497070051, 6.1943501872046429, \"doesn't\")\n",
      "(-2.6297332278718306, -4.1535061318146704, 'years')\n",
      "(1.1711487812239421, -0.7321985306995088, 'thing')\n",
      "(-4.7757700282830147, -1.5512878586262135, 'old')\n",
      "(4.6534358883453262, 1.3887277983007165, 'actors')\n",
      "(3.3349319450117174, 2.1148539540983182, 'work')\n",
      "(5.3896431468920305, 1.0496812511647964, '10')\n",
      "(0.50336703389444448, 1.5344129103937028, 'before')\n",
      "(-3.7287583689379304, 1.3719479462060995, 'another')\n",
      "(-3.4449773027880086, 8.7973388132831349, \"didn't\")\n",
      "(1.7462142757853132, -1.6045438215853216, 'new')\n",
      "(-1.6408879543019579, -3.0984357704599925, 'funny')\n",
      "(-4.1281730210879495, 8.2330450744737664, 'nothing')\n",
      "(-3.2233682046800247, -2.0422547097548249, 'actually')\n",
      "(-0.32716246324185172, -4.0982107662349971, 'makes')\n",
      "(-3.444902111706627, 8.6609718512522402, 'director')\n",
      "(-3.5483509098555581, -1.706512293008644, 'look')\n",
      "(5.5175249920675471, -1.3774049916951649, 'find')\n",
      "(-0.91461609226171359, 4.5197697527000091, 'going')\n",
      "(-0.77616397355843192, 1.2417426629571986, 'few')\n",
      "(-3.9911369847007823, 1.6771467186240849, 'same')\n",
      "(2.3480555512728598, 0.67185117885980838, 'part')\n",
      "(5.1058275705683291, 1.5258438100319553, 'again')\n",
      "(4.0120765043872222, 1.2780225935371066, 'every')\n",
      "(-2.8373223048550109, -5.1269077481644967, 'lot')\n",
      "(3.1974794719694564, 2.018215233419411, 'cast')\n",
      "(-0.17162321412477224, -4.7418914248384718, 'us')\n",
      "(2.1161800297639695, -6.0729504665345537, 'quite')\n",
      "(0.55625632819386162, 2.3039072071715867, 'down')\n",
      "(-4.3441935166294092, -1.1520462262853146, 'want')\n",
      "(2.4387935496298363, -0.61797635672078766, 'world')\n",
      "(4.1575154776683849, -5.3147825336531209, 'things')\n",
      "(-2.9379723316462187, -0.57037592814116467, 'pretty')\n",
      "(-0.46389244434765003, -0.56665172451913792, 'young')\n",
      "(-2.9897806088517975, 3.8313200668780798, 'seems')\n",
      "(-2.659847962941162, -3.7764098414095266, 'around')\n",
      "(-0.99585135387503709, -0.40155216244246117, 'got')\n",
      "(-0.69285205050386678, 4.8414103488558791, 'horror')\n",
      "(-1.5131774793488673, -0.798592859899523, 'however')\n",
      "(1.9001520246985273, 1.8304225900247797, \"can't\")\n",
      "(-2.9768821110220101, -5.398029112656916, 'fact')\n",
      "(-3.5262318538435653, -5.1826650108990266, 'take')\n",
      "(4.2644195437615355, -0.29563691109165707, 'big')\n",
      "(-2.9713924643556191, 6.5834180837806731, 'enough')\n",
      "(0.070989665835133428, 3.3467348284988843, 'long')\n",
      "(2.4507947940830763, -4.7286897390471117, 'thought')\n",
      "(1.088081852193491, 1.2254540822397948, \"that's\")\n",
      "(-0.22531700444797131, -9.2415313823135925, 'both')\n",
      "(3.3150965785533049, -6.5738492712338559, 'between')\n",
      "(-1.8924478556711657, -4.5550417616008652, 'series')\n",
      "(0.78800434100930961, -0.51673664186421076, 'give')\n",
      "(2.1854666743553555, -1.7704754538151204, 'may')\n",
      "(-4.6092646541762514, 3.5816011348660881, 'original')\n",
      "(-3.5646834480190623, -4.5655317218150859, 'own')\n",
      "(3.4264852215092345, -4.7801695323617608, 'action')\n",
      "(4.7776740854131594, 1.66353622134561, \"i've\")\n",
      "(1.6736796182738261, -8.497286874344006, 'right')\n",
      "(2.4199881556494027, -0.20891773762335647, 'without')\n",
      "(1.5804632639188214, -8.0558034175579554, 'always')\n",
      "(2.0125000605724321, -8.3581686312890415, 'times')\n",
      "(5.0209679793674677, 0.38393208059763828, 'comedy')\n",
      "(-1.9812747601579748, 1.2883976266333754, 'point')\n",
      "(0.23929359509311834, 1.039662800957355, 'gets')\n",
      "(2.9736432572500755, -7.1345435794868797, 'must')\n",
      "(2.0568845047395898, -1.2209180003213649, 'come')\n",
      "(1.4579643317851447, 2.572532802689246, 'role')\n",
      "(-3.3405319896039223, 0.45326748454495852, \"isn't\")\n",
      "(4.6284728798607286, -4.3679097289692308, 'saw')\n",
      "(0.93977146490072061, -0.25789718657953203, 'almost')\n",
      "(-1.396041895812675, 6.5517448396980438, 'interesting')\n",
      "(-1.9196839214582997, 7.1374252776528389, 'least')\n",
      "(2.4360378242879719, -0.79324933001876774, 'family')\n",
      "(-3.0902107448484237, -4.5062565018629135, 'done')\n",
      "(-1.7872840326208137, 5.1224720982432386, \"there's\")\n",
      "(2.6787006803375064, 3.1825300008070565, 'whole')\n",
      "(1.1575079301795017, -5.8413015817337639, 'bit')\n",
      "(-4.2581461813347721, -2.2170891999041507, 'music')\n",
      "(-3.5937867350461765, 8.2881594675315373, 'script')\n",
      "(1.9115465582519742, 1.3405476486871741, 'far')\n",
      "(1.5258297653476849, 2.3051478865884776, 'making')\n",
      "(1.7966547277515719, 2.6540202386162868, 'guy')\n",
      "(-1.6876774583052769, 4.2598117797235338, 'anything')\n",
      "(-4.8032168075373223, -1.1549469330400621, 'feel')\n",
      "(-4.0659392064614401, 8.4159542799460887, 'minutes')\n",
      "(1.9453558312815658, 0.30438473346729278, 'last')\n",
      "(-2.6087061421960476, -4.8411477696578586, 'since')\n",
      "(-5.6663106842271604, 4.2774237453844348, 'might')\n",
      "(-3.2803020628473805, -6.1572393567162971, 'performance')\n",
      "(2.9246070631630761, -0.77091234295664179, \"he's\")\n",
      "(-3.0877835407451308, 5.6758860533606645, '2')\n",
      "(-0.78709889737184435, -0.95225324423877944, 'probably')\n",
      "(1.1991545262227974, 1.2361368552854377, 'kind')\n",
      "(-4.9196603604379945, 2.6116278396134391, 'am')\n",
      "(4.4479628118798766, 1.1922468287889121, 'away')\n",
      "(-3.7237129944101302, -4.034928642975097, 'yet')\n",
      "(-0.49407591821395119, 0.34385542513190365, 'rather')\n",
      "(0.57370173052576445, -0.49491699962118613, 'tv')\n",
      "(-4.5507212334304619, 9.3100125834068255, 'worst')\n",
      "(3.9572011881304778, -1.5780281225214701, 'girl')\n",
      "(-3.5489999220692123, -4.2106626940370369, 'day')\n",
      "(-3.3265189427866506, -4.7105857763074344, 'sure')\n"
     ]
    }
   ],
   "source": [
    "#guide to chart above\n",
    "\n",
    "for i in range(displaytopnwords):\n",
    "    print((tsneXY[i, 0], tsneXY[i, 1], intToWord[i]))"
   ]
  },
  {
   "cell_type": "code",
   "execution_count": 32,
   "metadata": {
    "collapsed": false
   },
   "outputs": [
    {
     "name": "stdout",
     "output_type": "stream",
     "text": [
      "('great', 0.0)\n",
      "('amazing', 0.5212827324867249)\n",
      "('wonderful', 0.5301917195320129)\n",
      "('impressed', 0.5487397909164429)\n",
      "('underrated', 0.5511659383773804)\n",
      "('beauty', 0.556002676486969)\n",
      "('awesome', 0.5607948899269104)\n",
      "('winner', 0.561858057975769)\n",
      "('holmes', 0.5652989745140076)\n",
      "('ride', 0.5676301121711731)\n",
      "('provoking', 0.5685350298881531)\n",
      "('sweet', 0.5689787864685059)\n",
      "('available', 0.568992018699646)\n",
      "('balance', 0.5692850351333618)\n",
      "('subtle', 0.5730404257774353)\n",
      "('criminal', 0.5735073685646057)\n",
      "('ironic', 0.5742459297180176)\n",
      "('unforgettable', 0.5747899413108826)\n",
      "('rare', 0.5760678052902222)\n",
      "('impact', 0.5766984224319458)\n"
     ]
    }
   ],
   "source": [
    "# Lets see what the embedding learned, \n",
    "# provoking is close to great in cosine space, that's cool and definettly movie specific\n",
    "\n",
    "from scipy.spatial.distance import euclidean\n",
    "\n",
    "for value in np.argsort(np.apply_along_axis(lambda x: euclidean(x, embmatrix[imdbTokenizer.word_index['great'],:]), \n",
    "                                            1, embmatrix))[:20]:\n",
    "    print((intToWord[value], euclidean(embmatrix[value,:], embmatrix[imdbTokenizer.word_index['great'],:])))"
   ]
  },
  {
   "cell_type": "code",
   "execution_count": 33,
   "metadata": {
    "collapsed": false
   },
   "outputs": [
    {
     "name": "stdout",
     "output_type": "stream",
     "text": [
      "('great', -7.119597689175805e-08)\n",
      "('amazing', 0.32049169159623303)\n",
      "('wonderful', 0.32156555138627929)\n",
      "('excellent', 0.37071652504353914)\n",
      "('available', 0.39210480941538683)\n",
      "('impressed', 0.39659269262071206)\n",
      "('today', 0.40157827429709725)\n",
      "('underrated', 0.40429114808571831)\n",
      "('ride', 0.40449692143994531)\n",
      "('beauty', 0.41162060546385293)\n",
      "('winner', 0.41534288040033673)\n",
      "('awesome', 0.41715241933314673)\n",
      "('heart', 0.41754174078939776)\n",
      "('perfect', 0.41879362639734119)\n",
      "('rare', 0.42205403276705222)\n",
      "('brilliant', 0.43154722189254757)\n",
      "('loved', 0.43247036209083212)\n",
      "('superb', 0.43305001243310526)\n",
      "('solid', 0.43443012027953165)\n",
      "('sweet', 0.43829286980697058)\n"
     ]
    }
   ],
   "source": [
    "from scipy.spatial.distance import cosine\n",
    "\n",
    "for value in np.argsort(np.apply_along_axis(lambda x: cosine(x, embmatrix[imdbTokenizer.word_index['great'],:]), \n",
    "                                            1, embmatrix))[:20]:\n",
    "    print((intToWord[value], cosine(embmatrix[value,:], embmatrix[imdbTokenizer.word_index['great'],:])))"
   ]
  },
  {
   "cell_type": "code",
   "execution_count": 34,
   "metadata": {
    "collapsed": false
   },
   "outputs": [
    {
     "data": {
      "text/plain": [
       "84"
      ]
     },
     "execution_count": 34,
     "metadata": {},
     "output_type": "execute_result"
    }
   ],
   "source": [
    "imdbTokenizer.word_index['great']"
   ]
  },
  {
   "cell_type": "code",
   "execution_count": 36,
   "metadata": {
    "collapsed": false
   },
   "outputs": [
    {
     "name": "stdout",
     "output_type": "stream",
     "text": [
      "(25000, 200, 1)\n"
     ]
    }
   ],
   "source": [
    "# Prep the data to do a prediction at each time step\n",
    "# goal is to use this model to figure out what words cause predicted sentiment to change\n",
    "# reshape to predict at every time step the review sentiment\n",
    "\n",
    "y_train_multi = np.repeat(y_train.reshape((-1,1)), max_len, axis=1).reshape((-1,max_len,1))\n",
    "y_test_multi = np.repeat(y_test.reshape((-1,1)), max_len, axis=1).reshape((-1,max_len,1))\n",
    "print(y_train_multi.shape)"
   ]
  },
  {
   "cell_type": "code",
   "execution_count": 37,
   "metadata": {
    "collapsed": false
   },
   "outputs": [
    {
     "name": "stdout",
     "output_type": "stream",
     "text": [
      "____________________________________________________________________________________________________\n",
      "Layer (type)                       Output Shape        Param #     Connected to                     \n",
      "====================================================================================================\n",
      "input_4 (InputLayer)               (None, 200)         0                                            \n",
      "____________________________________________________________________________________________________\n",
      "embedding_4 (Embedding)            (None, 200, 128)    1280000     input_4[0][0]                    \n",
      "____________________________________________________________________________________________________\n",
      "batchnormalization_4 (BatchNormaliz(None, 200, 128)    256         embedding_4[0][0]                \n",
      "____________________________________________________________________________________________________\n",
      "lstm_6 (LSTM)                      (None, 200, 64)     49408       batchnormalization_4[0][0]       \n",
      "____________________________________________________________________________________________________\n",
      "dropout_4 (Dropout)                (None, 200, 64)     0           lstm_6[0][0]                     \n",
      "____________________________________________________________________________________________________\n",
      "timedistributed_1 (TimeDistributed)(None, 200, 1)      65          dropout_4[0][0]                  \n",
      "====================================================================================================\n",
      "Total params: 1329729\n",
      "____________________________________________________________________________________________________\n",
      "None\n"
     ]
    }
   ],
   "source": [
    "# Forward Pass LSTM Network multi step predict\n",
    "from keras.layers.wrappers import TimeDistributed\n",
    "\n",
    "# this is the placeholder tensor for the input sequences\n",
    "sequence = Input(shape=(max_len,), dtype='int32')\n",
    "# this embedding layer will transform the sequences of integers\n",
    "# into vectors of size embedding\n",
    "# embedding layer converts dense int input to one-hot in real time to save memory\n",
    "embedded = Embedding(max_features, embedding_neurons, input_length=max_len)(sequence)\n",
    "# normalize embeddings by input/word in sentence\n",
    "bnorm = BatchNormalization()(embedded)\n",
    "\n",
    "# apply forwards LSTM layer size lstm_neurons\n",
    "forwards = LSTM(lstm_neurons, dropout_W=0.2, dropout_U=0.2, return_sequences=True)(bnorm)\n",
    "\n",
    "# dropout \n",
    "after_dp = Dropout(0.5)(forwards)\n",
    "output = TimeDistributed(Dense(1, activation='sigmoid'))(after_dp)\n",
    "\n",
    "model_fdir_multi = Model(input=sequence, output=output)\n",
    "# review model structure\n",
    "print(model_fdir_multi.summary())"
   ]
  },
  {
   "cell_type": "code",
   "execution_count": 38,
   "metadata": {
    "collapsed": false
   },
   "outputs": [
    {
     "name": "stdout",
     "output_type": "stream",
     "text": [
      "Train...\n",
      "Train on 25000 samples, validate on 25000 samples\n",
      "Epoch 1/6\n",
      "328s - loss: 0.6050 - acc: 0.6518 - val_loss: 0.5505 - val_acc: 0.7073\n",
      "Epoch 2/6\n",
      "335s - loss: 0.4968 - acc: 0.7335 - val_loss: 0.5090 - val_acc: 0.7258\n",
      "Epoch 3/6\n",
      "343s - loss: 0.4503 - acc: 0.7593 - val_loss: 0.5221 - val_acc: 0.7252\n",
      "Epoch 4/6\n",
      "347s - loss: 0.4181 - acc: 0.7751 - val_loss: 0.5296 - val_acc: 0.7147\n",
      "Epoch 5/6\n",
      "347s - loss: 0.3945 - acc: 0.7865 - val_loss: 0.5916 - val_acc: 0.7173\n",
      "Epoch 6/6\n",
      "341s - loss: 0.3734 - acc: 0.7963 - val_loss: 0.5870 - val_acc: 0.7184\n",
      "avg sec per epoch: 343.41444504261017\n"
     ]
    }
   ],
   "source": [
    "# Forward pass LSTM network multi step predict\n",
    "\n",
    "# try using different optimizers and different optimizer configs\n",
    "model_fdir_multi.compile('rmsprop', 'binary_crossentropy', metrics=['accuracy'])\n",
    "\n",
    "print('Train...')\n",
    "start_time = time.time()\n",
    "\n",
    "history_fdir_multi = model_fdir_multi.fit(X_train, y_train_multi,\n",
    "                    batch_size=batch_size,\n",
    "                    nb_epoch=epochs,\n",
    "                    validation_data=[X_test, y_test_multi], \n",
    "                    verbose=2)\n",
    "\n",
    "end_time = time.time()\n",
    "average_time_per_epoch = (end_time - start_time) / epochs\n",
    "print(\"avg sec per epoch:\", average_time_per_epoch)"
   ]
  },
  {
   "cell_type": "code",
   "execution_count": 40,
   "metadata": {
    "collapsed": false
   },
   "outputs": [
    {
     "data": {
      "text/plain": [
       "(25000, 200, 1)"
      ]
     },
     "execution_count": 40,
     "metadata": {},
     "output_type": "execute_result"
    }
   ],
   "source": [
    "y_test_pred_mult = model_fdir_multi.predict(X_test)\n",
    "y_test_pred_mult.shape"
   ]
  },
  {
   "cell_type": "code",
   "execution_count": 51,
   "metadata": {
    "collapsed": false
   },
   "outputs": [
    {
     "data": {
      "text/plain": [
       "0.86119999999999997"
      ]
     },
     "execution_count": 51,
     "metadata": {},
     "output_type": "execute_result"
    }
   ],
   "source": [
    "# as a sanity check look at the accuracy of the final prediction\n",
    "accuracy_score(y_test_multi[:,-1,:].ravel(), y_test_pred_mult[:,-1,:].ravel() > 0.5)"
   ]
  },
  {
   "cell_type": "code",
   "execution_count": 63,
   "metadata": {
    "collapsed": false
   },
   "outputs": [
    {
     "name": "stdout",
     "output_type": "stream",
     "text": [
      "avg starting review: 0.525825202465\n",
      "max starting review: 0.899692058563\n",
      "min starting review: 0.090793274343\n"
     ]
    }
   ],
   "source": [
    "print(\"avg starting review:\", np.median(y_test_pred_mult[:,0,:]))\n",
    "print(\"max starting review:\", np.max(y_test_pred_mult[:,0,:]))\n",
    "print(\"min starting review:\", np.min(y_test_pred_mult[:,0,:]))"
   ]
  },
  {
   "cell_type": "code",
   "execution_count": 50,
   "metadata": {
    "collapsed": false
   },
   "outputs": [
    {
     "data": {
      "text/plain": [
       "0.50146971679277719"
      ]
     },
     "execution_count": 50,
     "metadata": {},
     "output_type": "execute_result"
    }
   ],
   "source": [
    "np.mean(y_test_pred_mult[:,-1,:].ravel())"
   ]
  },
  {
   "cell_type": "code",
   "execution_count": 64,
   "metadata": {
    "collapsed": false
   },
   "outputs": [
    {
     "name": "stdout",
     "output_type": "stream",
     "text": [
      "0.986877501011\n"
     ]
    }
   ],
   "source": [
    "for review in y_test_pred_mult[:,:,:][:10]:\n",
    "    for word in review:\n",
    "        print(word)"
   ]
  },
  {
   "cell_type": "code",
   "execution_count": 66,
   "metadata": {
    "collapsed": false
   },
   "outputs": [
    {
     "data": {
      "text/plain": [
       "(25000, 199, 1)"
      ]
     },
     "execution_count": 66,
     "metadata": {},
     "output_type": "execute_result"
    }
   ],
   "source": [
    "predDelta = y_test_pred_mult[:,1:,:] - y_test_pred_mult[:,:-1,:]\n",
    "predDelta.shape"
   ]
  },
  {
   "cell_type": "code",
   "execution_count": 94,
   "metadata": {
    "collapsed": false
   },
   "outputs": [
    {
     "data": {
      "text/plain": [
       "(25000, 200)"
      ]
     },
     "execution_count": 94,
     "metadata": {},
     "output_type": "execute_result"
    }
   ],
   "source": [
    "# concatenate 0.5 (neutral sentiment) to the initial dimension \n",
    "predDelta = np.concatenate((np.repeat(0.5, 25000).reshape((-1,1)), predDelta.reshape((-1, max_len-1))), axis=1)\n",
    "predDelta.shape"
   ]
  },
  {
   "cell_type": "code",
   "execution_count": 102,
   "metadata": {
    "collapsed": false
   },
   "outputs": [
    {
     "name": "stderr",
     "output_type": "stream",
     "text": [
      "/home/thenome/anaconda3/lib/python3.5/site-packages/numpy/core/_methods.py:59: RuntimeWarning: Mean of empty slice.\n",
      "  warnings.warn(\"Mean of empty slice.\", RuntimeWarning)\n"
     ]
    }
   ],
   "source": [
    "# group the predDelta value by the sequence index value in X_test \n",
    "# to figure out which words cause sentiment to change the most\n",
    "\n",
    "ascDeltaWords = [np.mean(predDelta[X_test == x]) for x in range(max_features)]"
   ]
  },
  {
   "cell_type": "code",
   "execution_count": 124,
   "metadata": {
    "collapsed": false
   },
   "outputs": [],
   "source": [
    "# filter out nan for words not observed in test set\n",
    "ascDeltaWords = [0 if np.isnan(x) else x for x in ascDeltaWords]"
   ]
  },
  {
   "cell_type": "code",
   "execution_count": 130,
   "metadata": {
    "collapsed": false
   },
   "outputs": [
    {
     "name": "stdout",
     "output_type": "stream",
     "text": [
      "Larget positive deltas\n",
      "(318, 'excellent', 0.1135530759048801)\n",
      "(444, 'loved', 0.10824652494908857)\n",
      "(477, 'amazing', 0.1053537991351865)\n",
      "(774, 'fantastic', 0.096833608217064548)\n",
      "(526, 'brilliant', 0.091208578346822097)\n",
      "(767, 'surprised', 0.087269864032603492)\n",
      "(386, 'wonderful', 0.08310811262488664)\n",
      "(511, 'favorite', 0.0797732096012847)\n",
      "(817, 'realistic', 0.079194901447064689)\n",
      "(988, 'masterpiece', 0.075743083126526542)\n",
      "(507, 'enjoyed', 0.075512382078529103)\n",
      "(830, 'greatest', 0.073290431016200294)\n",
      "(400, 'perfect', 0.072729911018092799)\n",
      "(972, 'powerful', 0.071959564074604215)\n",
      "(639, 'hilarious', 0.069466818333931368)\n",
      "(115, 'best', 0.069015149195531311)\n",
      "(690, '7', 0.068242754817720061)\n",
      "(897, 'superb', 0.066684719748502846)\n",
      "(955, 'plenty', 0.06476325929448333)\n",
      "(734, 'enjoyable', 0.064571092524283752)\n",
      "(706, '8', 0.062462477409835196)\n"
     ]
    }
   ],
   "source": [
    "print(\"Larget positive deltas\")\n",
    "count = 0\n",
    "for value in np.argsort(ascDeltaWords).tolist()[::-1]:\n",
    "    #filter to only look at commonly used words\n",
    "    if value < 1000:\n",
    "        count += 1\n",
    "        print((value, intToWord[value], np.mean(predDelta[X_test == value])))\n",
    "        if count > 20:\n",
    "            break"
   ]
  },
  {
   "cell_type": "code",
   "execution_count": 131,
   "metadata": {
    "collapsed": false
   },
   "outputs": [
    {
     "name": "stdout",
     "output_type": "stream",
     "text": [
      "Larget negative deltas\n",
      "(246, 'worst', -0.15909575486241459)\n",
      "(370, 'awful', -0.1244145495161994)\n",
      "(858, 'poorly', -0.10577680406002503)\n",
      "(469, 'unfortunately', -0.10169188567438291)\n",
      "(355, 'boring', -0.098990060330637994)\n",
      "(391, 'terrible', -0.097384153465498932)\n",
      "(832, 'lame', -0.0892755556459114)\n",
      "(335, 'poor', -0.082634137495456339)\n",
      "(524, 'horrible', -0.080569665198860843)\n",
      "(420, 'supposed', -0.080315845656580259)\n",
      "(613, 'annoying', -0.078367447825396883)\n",
      "(645, 'ridiculous', -0.077781594174762145)\n",
      "(750, 'dull', -0.076871606111156426)\n",
      "(944, 'mess', -0.074934110150582364)\n",
      "(75, 'bad', -0.0747984467143325)\n",
      "(907, 'badly', -0.074105306903817766)\n",
      "(860, 'okay', -0.071693332099578164)\n",
      "(375, 'stupid', -0.069879267600081313)\n",
      "(430, 'worse', -0.067640220894395683)\n",
      "(993, 'fails', -0.067170482558871147)\n",
      "(759, 'bunch', -0.065211902330915686)\n"
     ]
    }
   ],
   "source": [
    "print(\"Larget negative deltas\")\n",
    "count = 0\n",
    "for value in np.argsort(ascDeltaWords).tolist():\n",
    "    #filter to only look at commonly used words\n",
    "    if value < 1000:\n",
    "        count += 1\n",
    "        print((value, intToWord[value], np.mean(predDelta[X_test == value])))\n",
    "        if count > 20:\n",
    "            break"
   ]
  },
  {
   "cell_type": "markdown",
   "metadata": {},
   "source": [
    "It's pretty cool that with only 25,000 training examples the network was able to learn so accurately what types of words cause a review to transition from positive to negative sentiment or vice versa. I have to image this would only improve with more data. \n",
    "\n",
    "Now let's concatenate the words with the highest absolute delta sentiment values and use the prior train TSNE embedding model to chart how these words are clustered on the manifold the network has learned."
   ]
  },
  {
   "cell_type": "code",
   "execution_count": 138,
   "metadata": {
    "collapsed": false
   },
   "outputs": [
    {
     "data": {
      "image/png": "[encoded data removed]",
      "text/plain": [
       "<matplotlib.figure.Figure at 0x7fa22ff57978>"
      ]
     },
     "metadata": {},
     "output_type": "display_data"
    }
   ],
   "source": [
    "%matplotlib inline\n",
    "import matplotlib.pyplot as plt\n",
    "fig, ax = plt.subplots()\n",
    "ax.scatter(tsneXY[posToNegWordList, 0], tsneXY[posToNegWordList, 1])\n",
    "\n",
    "for i in posToNegWordList:\n",
    "    ax.annotate(intToWord[i], (tsneXY[i, 0], tsneXY[i, 1]))\n",
    "\n",
    "fig.set_size_inches(25, 25)\n",
    "plt.show()\n",
    "# notice that we have two very distinct clusters in the embedding as one would expect"
   ]
  },
  {
   "cell_type": "markdown",
   "metadata": {},
   "source": [
    "Next let's import pre-trained word vectors from google and use them to initialize our embedding to see if this improves the neural net's performance."
   ]
  },
  {
   "cell_type": "code",
   "execution_count": 142,
   "metadata": {
    "collapsed": false
   },
   "outputs": [],
   "source": [
    "from gensim.models import Word2Vec\n",
    "\n",
    "#get pre trained word2vec from google:\n",
    "#https://doc-0k-4g-docs.googleusercontent.com/docs/securesc/gnqvgap6hjncpd3b10i2tv865io48jas/hmjtdgee48c14e1parufukrpkb8urra5/1463018400000/06848720943842814915/09676831593570546402/0B7XkCwpI5KDYNlNUTTlSS21pQmM?e=download&nonce=4l49745nmtine&user=09676831593570546402&hash=i2qe9mshan4mesl112ct9bu1tj9kr1hq\n",
    "\n",
    "googlew2v = Word2Vec.load_word2vec_format('./googleword2vec/GoogleNews-vectors-negative300.bin', binary=True)"
   ]
  },
  {
   "cell_type": "code",
   "execution_count": 155,
   "metadata": {
    "collapsed": false
   },
   "outputs": [
    {
     "name": "stdout",
     "output_type": "stream",
     "text": [
      "[[ 0.01353668  0.33976858  0.279984   ...,  0.14643192  0.16220523\n",
      "   0.34893078]\n",
      " [ 0.08007812  0.10498047  0.04980469 ...,  0.00366211  0.04760742\n",
      "  -0.06884766]\n",
      " [ 0.46788825  0.24908416  0.07994805 ...,  0.12019843  0.88012847\n",
      "   0.4712616 ]\n",
      " ..., \n",
      " [-0.28710938 -0.109375    0.17871094 ..., -0.09228516 -0.20605469\n",
      "   0.14550781]\n",
      " [-0.09082031  0.34960938  0.08154297 ...,  0.02502441 -0.24023438\n",
      "   0.14160156]\n",
      " [ 0.25976562  0.13574219  0.18847656 ..., -0.28515625  0.11474609\n",
      "   0.05688477]]\n",
      "(10000, 300)\n"
     ]
    }
   ],
   "source": [
    "# get word vectors for words in my index\n",
    "googleVecs = []\n",
    "for value in range(max_features):\n",
    "    try:\n",
    "        googleVecs.append(googlew2v[intToWord[value]])\n",
    "    except:\n",
    "        googleVecs.append(np.random.uniform(size=300))\n",
    "\n",
    "googleVecs = np.array(googleVecs)\n",
    "\n",
    "print(googleVecs)\n",
    "print(googleVecs.shape)"
   ]
  },
  {
   "cell_type": "code",
   "execution_count": 170,
   "metadata": {
    "collapsed": false
   },
   "outputs": [
    {
     "name": "stdout",
     "output_type": "stream",
     "text": [
      "____________________________________________________________________________________________________\n",
      "Layer (type)                       Output Shape        Param #     Connected to                     \n",
      "====================================================================================================\n",
      "input_5 (InputLayer)               (None, 200)         0                                            \n",
      "____________________________________________________________________________________________________\n",
      "embedding_5 (Embedding)            (None, 200, 300)    3000000     input_5[0][0]                    \n",
      "____________________________________________________________________________________________________\n",
      "batchnormalization_5 (BatchNormaliz(None, 200, 300)    600         embedding_5[0][0]                \n",
      "____________________________________________________________________________________________________\n",
      "lstm_7 (LSTM)                      (None, 64)          93440       batchnormalization_5[0][0]       \n",
      "____________________________________________________________________________________________________\n",
      "lstm_8 (LSTM)                      (None, 64)          93440       batchnormalization_5[0][0]       \n",
      "____________________________________________________________________________________________________\n",
      "merge_3 (Merge)                    (None, 128)         0           lstm_7[0][0]                     \n",
      "                                                                   lstm_8[0][0]                     \n",
      "____________________________________________________________________________________________________\n",
      "dropout_5 (Dropout)                (None, 128)         0           merge_3[0][0]                    \n",
      "____________________________________________________________________________________________________\n",
      "dense_5 (Dense)                    (None, 1)           129         dropout_5[0][0]                  \n",
      "====================================================================================================\n",
      "Total params: 3187609\n",
      "____________________________________________________________________________________________________\n",
      "None\n"
     ]
    }
   ],
   "source": [
    "# Bi-directional google\n",
    "\n",
    "# this example tests if using pretrained embeddings will improve performance \n",
    "# relative to starting with random embeddings\n",
    "\n",
    "# this is the placeholder tensor for the input sequences\n",
    "sequence = Input(shape=(max_len,), dtype='int32')\n",
    "# this embedding layer will transform the sequences of integers\n",
    "# into vectors of size embedding\n",
    "# embedding layer converts dense int input to one-hot in real time to save memory\n",
    "embedded = Embedding(max_features, 300, input_length=max_len, weights=[googleVecs])(sequence)\n",
    "# normalize embeddings by input/word in sentence\n",
    "bnorm = BatchNormalization()(embedded)\n",
    "\n",
    "# apply forwards LSTM layer size lstm_neurons\n",
    "forwards = LSTM(lstm_neurons, dropout_W=0.4, dropout_U=0.4)(bnorm)\n",
    "# apply backwards LSTM\n",
    "backwards = LSTM(lstm_neurons, dropout_W=0.4, dropout_U=0.4, go_backwards=True)(bnorm)\n",
    "\n",
    "# concatenate the outputs of the 2 LSTMs\n",
    "merged = merge([forwards, backwards], mode='concat', concat_axis=-1)\n",
    "after_dp = Dropout(0.5)(merged)\n",
    "output = Dense(1, activation='sigmoid')(after_dp)\n",
    "\n",
    "model_bidir_google = Model(input=sequence, output=output)\n",
    "# review model structure\n",
    "print(model_bidir_google.summary())"
   ]
  },
  {
   "cell_type": "code",
   "execution_count": 171,
   "metadata": {
    "collapsed": false
   },
   "outputs": [
    {
     "name": "stdout",
     "output_type": "stream",
     "text": [
      "Train...\n",
      "Train on 25000 samples, validate on 25000 samples\n",
      "Epoch 1/6\n",
      "718s - loss: 0.6614 - acc: 0.5989 - val_loss: 0.7493 - val_acc: 0.5954\n",
      "Epoch 2/6\n",
      "706s - loss: 0.5253 - acc: 0.7433 - val_loss: 0.4185 - val_acc: 0.8175\n",
      "Epoch 3/6\n",
      "685s - loss: 0.4361 - acc: 0.8084 - val_loss: 0.3547 - val_acc: 0.8581\n",
      "Epoch 4/6\n",
      "686s - loss: 0.3751 - acc: 0.8422 - val_loss: 0.3008 - val_acc: 0.8770\n",
      "Epoch 5/6\n",
      "678s - loss: 0.3290 - acc: 0.8668 - val_loss: 0.3027 - val_acc: 0.8825\n",
      "Epoch 6/6\n",
      "686s - loss: 0.3011 - acc: 0.8800 - val_loss: 0.2983 - val_acc: 0.8864\n",
      "avg sec per epoch: 699.137955625852\n"
     ]
    }
   ],
   "source": [
    "# Bi-directional google\n",
    "\n",
    "model_bidir_google.compile('rmsprop', 'binary_crossentropy', metrics=['accuracy'])\n",
    "\n",
    "print('Train...')\n",
    "start_time = time.time()\n",
    "\n",
    "history_bidir_google = model_bidir_google.fit(X_train, y_train,\n",
    "                    batch_size=batch_size,\n",
    "                    nb_epoch=epochs,\n",
    "                    validation_data=[X_test, y_test], \n",
    "                    verbose=2)\n",
    "\n",
    "end_time = time.time()\n",
    "average_time_per_epoch = (end_time - start_time) / epochs\n",
    "print(\"avg sec per epoch:\", average_time_per_epoch)"
   ]
  },
  {
   "cell_type": "markdown",
   "metadata": {},
   "source": [
    "The model with pre-trained word2vec vector's didn't outperform a random embedding, but I suspect it may have if I had run more epochs. Moreover, the number of parameters went up ~3x because the pre-trained vectors were 300d rather than 128d. I suspect I would have had better luck using the glove 6 billion vectors which are 100d instead. Our dataset is just too small to fit a 3 million weight embedding"
   ]
  },
  {
   "cell_type": "code",
   "execution_count": 184,
   "metadata": {
    "collapsed": false
   },
   "outputs": [
    {
     "data": {
      "text/plain": [
       "array([[ 0.38526863]])"
      ]
     },
     "execution_count": 184,
     "metadata": {},
     "output_type": "execute_result"
    }
   ],
   "source": [
    "test = \"I would want to see this movie.\"\n",
    "\n",
    "test = imdbTokenizer.texts_to_sequences([test])\n",
    "\n",
    "from keras.preprocessing import sequence\n",
    "test = sequence.pad_sequences(test, maxlen=max_len)\n",
    "\n",
    "test\n",
    "\n",
    "model_bidir_rmsprop.predict(test)"
   ]
  }
 ],
 "metadata": {
  "kernelspec": {
   "display_name": "Python 3",
   "language": "python",
   "name": "python3"
  },
  "language_info": {
   "codemirror_mode": {
    "name": "ipython",
    "version": 3
   },
   "file_extension": ".py",
   "mimetype": "text/x-python",
   "name": "python",
   "nbconvert_exporter": "python",
   "pygments_lexer": "ipython3",
   "version": "3.5.1"
  }
 },
 "nbformat": 4,
 "nbformat_minor": 0
}
